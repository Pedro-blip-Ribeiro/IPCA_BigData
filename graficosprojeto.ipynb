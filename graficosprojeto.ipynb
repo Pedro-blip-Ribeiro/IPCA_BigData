{
 "cells": [
  {
   "cell_type": "code",
   "execution_count": null,
   "metadata": {},
   "outputs": [
    {
     "name": "stdout",
     "output_type": "stream",
     "text": [
      "Erro ao conectar ao MongoDB: localhost:27017: [WinError 10061] Nenhuma conexão pôde ser feita porque a máquina de destino as recusou ativamente (configured timeouts: socketTimeoutMS: 20000.0ms, connectTimeoutMS: 20000.0ms), Timeout: 30s, Topology Description: <TopologyDescription id: 6738abc85b9885ca3e9f3c3c, topology_type: Unknown, servers: [<ServerDescription ('localhost', 27017) server_type: Unknown, rtt: None, error=AutoReconnect('localhost:27017: [WinError 10061] Nenhuma conexão pôde ser feita porque a máquina de destino as recusou ativamente (configured timeouts: socketTimeoutMS: 20000.0ms, connectTimeoutMS: 20000.0ms)')>]>\n"
     ]
    }
   ],
   "source": [
    "import matplotlib.pyplot as plt\n",
    "import seaborn as sns\n",
    "import pandas as pd\n",
    "import ipywidgets as widgets\n",
    "from ipywidgets import interactive\n",
    "from pymongo import MongoClient\n",
    "from IPython.display import display\n",
    "\n",
    "# Conectar ao MongoDB\n",
    "client = MongoClient('mongodb://localhost:27017')\n",
    "db = client['big_data_ibge']\n",
    "collection = db['inflacao']\n",
    "\n",
    "# Buscar os dados do MongoDB\n",
    "data = pd.DataFrame(list(collection.find()))\n",
    "data = data.drop(columns=['_id'], errors='ignore') # Remove a coluna _id.\n",
    "data.columns = ['Data', 'Ano', 'IPCA']\n",
    "\n",
    "#Função para gerar gráficos comparativos\n",
    "def plot_comparacao(anos_selecionados):\n",
    "    # Filtra os dados de acordo com o ano selecionado.\n",
    "    df_filtrado = data[data['Ano'].isin(anos_selecionados)]\n",
    "\n",
    "    if df_filtrado.empty:\n",
    "        print(\"Nenhum dado disponível para os anos escolhidos.\")\n",
    "        return\n",
    "\n",
    "    df_filtrado = df_filtrado.sort_values(by='Ano')\n",
    "\n",
    "    # Gráfico de barras para vizualizar a variação do IPCA ao longo do tempo\n",
    "    plt.figure(figsize=(12, 6))\n",
    "    sns.barplot(x='Ano', y='IPCA', data=df_filtrado, palette='viridis')\n",
    "    plt.title('Variação do IPCA  ao longo do tempo', fontsize=16)\n",
    "    plt.ylabel('IPCA (%)', fontsize=14)\n",
    "    plt.xlabel('Ano', fontsize=14)\n",
    "    plt.xticks(rotation=45)\n",
    "    plt.show()\n",
    "\n",
    "# Widgets para seleção de filtro\n",
    "filtro_widget = widgets.RadioButtons(\n",
    "    options=['Todos os anos', 'Últimos 5 anos'],\n",
    "    description='Filtro:',\n",
    "    style={'description_width': 'initial'}\n",
    ")\n",
    "\n",
    "# Função para exibir os widgets adequadamente\n",
    "def update_plot(filtro):\n",
    "    if filtro == 'Últimos 5 anos':\n",
    "        anos_selecionados = list(range(data['Ano'].max() -4, data['Ano'].max() + 1))\n",
    "    else:\n",
    "        anos_selecionados = data['Ano'].unique() # Todos os anos\n",
    "\n",
    "    # Chama a função de plotagem com o filtro selecionado\n",
    "    plot_comparacao(anos_selecionados)\n",
    "\n",
    "# Interatividade\n",
    "filtro_widget.observe(on_filtro_change, names='value')\n",
    "display(filtro_widget)\n",
    "\n",
    "# Inicializa com o gráfico de \"Todos os anos\"\n",
    "update_plot('Todos os anos')\n",
    "\n"
   ]
  }
 ],
 "metadata": {
  "kernelspec": {
   "display_name": "venv",
   "language": "python",
   "name": "python3"
  },
  "language_info": {
   "codemirror_mode": {
    "name": "ipython",
    "version": 3
   },
   "file_extension": ".py",
   "mimetype": "text/x-python",
   "name": "python",
   "nbconvert_exporter": "python",
   "pygments_lexer": "ipython3",
   "version": "3.12.5"
  }
 },
 "nbformat": 4,
 "nbformat_minor": 2
}
